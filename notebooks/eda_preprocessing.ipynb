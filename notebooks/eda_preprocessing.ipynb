{
 "cells": [
  {
   "cell_type": "code",
   "execution_count": 1,
   "id": "aquatic-living",
   "metadata": {},
   "outputs": [],
   "source": [
    "from notebook_utils import add_project_path\n",
    "add_project_path()\n",
    "%load_ext autoreload\n",
    "%autoreload 2\n",
    "import pandas as pd\n",
    "import numpy as np\n",
    "import datetime\n",
    "import features as f \n",
    "from match_station import coord_merge, stations_list, coord_km\n",
    "import matplotlib.pyplot as plt\n",
    "\n",
    "pd.set_option('display.max_rows', 50)\n",
    "pd.set_option('display.max_columns', 200)"
   ]
  },
  {
   "cell_type": "code",
   "execution_count": 2,
   "id": "secondary-daughter",
   "metadata": {},
   "outputs": [
    {
     "name": "stderr",
     "output_type": "stream",
     "text": [
      "/Users/evgenyesingildinov/.local/share/virtualenvs/mchs-is38nFyi/lib/python3.9/site-packages/IPython/core/interactiveshell.py:3169: DtypeWarning: Columns (16,18) have mixed types.Specify dtype option on import or set low_memory=False.\n",
      "  has_raised = await self.run_ast_nodes(code_ast.body, cell_name,\n"
     ]
    }
   ],
   "source": [
    "geo_data = pd.read_csv('../data_raw/geo_data.csv')\n",
    "atmos = pd.read_csv('../data_raw/atmos.csv', index_col=0)\n",
    "meteo = pd.read_csv('../data_raw/meteo.csv', index_col=0)\n",
    "repair = pd.read_csv('../data_raw/repair.csv', parse_dates=['datetime']) \n",
    "crash = pd.read_csv('../data_raw/crash_parts.csv', parse_dates=['datetime'], index_col=0)\n",
    "tele2 = pd.read_csv('../data_raw/tele2_data.csv', parse_dates=['datetime'])\n",
    "traffic = pd.read_csv('../data_raw/traffic.csv', parse_dates=['datetime'])\n",
    "train = pd.read_csv('../data_raw/train.csv', parse_dates=['datetime'])\n",
    "test = pd.read_csv('../data_raw/test.csv', parse_dates=['datetime'])"
   ]
  },
  {
   "cell_type": "code",
   "execution_count": 3,
   "id": "foster-poison",
   "metadata": {},
   "outputs": [],
   "source": [
    "traffic_p = f.preprocess_traffic(traffic)\n",
    "geo_data_p = f.preprocess_geo(geo_data)"
   ]
  },
  {
   "cell_type": "code",
   "execution_count": 4,
   "id": "damaged-fraud",
   "metadata": {},
   "outputs": [],
   "source": [
    "traffic_stations = traffic[['station_id', 'road_id', 'road_km', 'latitude', 'longitude']].drop_duplicates().sort_values(['road_id', 'road_km']).reset_index(drop=True)"
   ]
  },
  {
   "cell_type": "code",
   "execution_count": 5,
   "id": "daily-adult",
   "metadata": {},
   "outputs": [],
   "source": [
    "geo_data_p = geo_data_p.merge(traffic_stations[['station_id', 'road_id', 'road_km']], on=['road_id', 'road_km'], how='left')"
   ]
  },
  {
   "cell_type": "code",
   "execution_count": 6,
   "id": "loaded-electric",
   "metadata": {},
   "outputs": [],
   "source": [
    "geo_data_p.loc[geo_data_p.road_id == 9, 'station_id_match'] = geo_data_p.loc[geo_data_p.road_id == 9, 'station_id'].interpolate(method='nearest').ffill().bfill()\n",
    "geo_data_p.loc[geo_data_p.road_id == 14, 'station_id_match'] = geo_data_p.loc[geo_data_p.road_id == 14, 'station_id'].interpolate(method='nearest').ffill().bfill()"
   ]
  },
  {
   "cell_type": "code",
   "execution_count": 7,
   "id": "approximate-highlight",
   "metadata": {},
   "outputs": [],
   "source": [
    "geo_data_p = geo_data_p.merge(traffic_stations[['station_id', 'latitude', 'longitude']], \n",
    "                              left_on='station_id_match', right_on='station_id',\n",
    "                              how='left')\n",
    "\n",
    "geo_data_p['dist_nearest_station'] = np.sqrt((geo_data_p['latitude'] - geo_data_p['lat_geoc'])**2 +\n",
    "                                             (geo_data_p['longitude'] - geo_data_p['lon_geoc'])**2)\n",
    "\n",
    "geo_data_p.drop(columns=['km_name', 'station_id_x', 'station_id_y', 'latitude', 'longitude'], inplace=True)\n",
    "geo_data_p.rename(columns={'station_id_match': 'station_id'}, inplace=True)\n"
   ]
  },
  {
   "cell_type": "code",
   "execution_count": 8,
   "id": "hybrid-tablet",
   "metadata": {
    "scrolled": true
   },
   "outputs": [],
   "source": [
    "meteo_p = f.preprocess_meteo(meteo)\n",
    "meteo_p = coord_merge(meteo_p)\n",
    "geo_data_p = coord_km(geo_data_p)"
   ]
  },
  {
   "cell_type": "code",
   "execution_count": 9,
   "id": "comparative-penetration",
   "metadata": {},
   "outputs": [
    {
     "name": "stderr",
     "output_type": "stream",
     "text": [
      "<ipython-input-9-e2e63980c1fe>:1: FutureWarning: Columnar iteration over characters will be deprecated in future releases.\n",
      "  geo_data_p['lat'], geo_data_p['lon'] = geo_data_p['lat_long'].str\n"
     ]
    }
   ],
   "source": [
    "geo_data_p['lat'], geo_data_p['lon'] = geo_data_p['lat_long'].str\n",
    "geo_data_p = geo_data_p[~(geo_data_p.lat.isnull() | geo_data_p.lon.isnull())].reset_index(drop=True)"
   ]
  },
  {
   "cell_type": "code",
   "execution_count": 10,
   "id": "severe-atlanta",
   "metadata": {},
   "outputs": [],
   "source": [
    "geo_data_p = f.add_meteo_stations(geo_data_p, meteo_p)"
   ]
  },
  {
   "cell_type": "code",
   "execution_count": 11,
   "id": "toxic-democracy",
   "metadata": {},
   "outputs": [],
   "source": [
    "geo_data_p.drop(columns=['lat_long', 'Широта', 'Долгота'], inplace=True)"
   ]
  },
  {
   "cell_type": "code",
   "execution_count": 12,
   "id": "eligible-boating",
   "metadata": {},
   "outputs": [
    {
     "name": "stderr",
     "output_type": "stream",
     "text": [
      "/Users/evgenyesingildinov/.local/share/virtualenvs/mchs-is38nFyi/lib/python3.9/site-packages/numpy/lib/arraysetops.py:583: FutureWarning: elementwise comparison failed; returning scalar instead, but in the future will perform elementwise comparison\n",
      "  mask |= (ar1 == a)\n"
     ]
    }
   ],
   "source": [
    "# train_p = f.preprocess_train(train)\n",
    "# train_x = f.compile_train(train_p,\n",
    "#                           start_date='2016-01-01 00:00:00',\n",
    "#                           end_date='2021-01-01 00:00:00')\n",
    "# train_x.to_csv('../data_processed/train.csv.gz')\n",
    "train_x = pd.read_csv('../data_processed/train.csv.gz', index_col=0, parse_dates=['datetime'])"
   ]
  },
  {
   "cell_type": "code",
   "execution_count": 13,
   "id": "drawn-ending",
   "metadata": {},
   "outputs": [
    {
     "data": {
      "text/html": [
       "<div>\n",
       "<style scoped>\n",
       "    .dataframe tbody tr th:only-of-type {\n",
       "        vertical-align: middle;\n",
       "    }\n",
       "\n",
       "    .dataframe tbody tr th {\n",
       "        vertical-align: top;\n",
       "    }\n",
       "\n",
       "    .dataframe thead th {\n",
       "        text-align: right;\n",
       "    }\n",
       "</style>\n",
       "<table border=\"1\" class=\"dataframe\">\n",
       "  <thead>\n",
       "    <tr style=\"text-align: right;\">\n",
       "      <th></th>\n",
       "      <th>datetime</th>\n",
       "      <th>segment_id</th>\n",
       "      <th>target</th>\n",
       "      <th>road_id</th>\n",
       "      <th>road_km</th>\n",
       "    </tr>\n",
       "  </thead>\n",
       "  <tbody>\n",
       "    <tr>\n",
       "      <th>0</th>\n",
       "      <td>2016-01-01</td>\n",
       "      <td>14_1276</td>\n",
       "      <td>0</td>\n",
       "      <td>14</td>\n",
       "      <td>1276</td>\n",
       "    </tr>\n",
       "    <tr>\n",
       "      <th>1</th>\n",
       "      <td>2016-01-01</td>\n",
       "      <td>9_278</td>\n",
       "      <td>0</td>\n",
       "      <td>9</td>\n",
       "      <td>278</td>\n",
       "    </tr>\n",
       "    <tr>\n",
       "      <th>2</th>\n",
       "      <td>2016-01-01</td>\n",
       "      <td>14_432</td>\n",
       "      <td>0</td>\n",
       "      <td>14</td>\n",
       "      <td>432</td>\n",
       "    </tr>\n",
       "    <tr>\n",
       "      <th>3</th>\n",
       "      <td>2016-01-01</td>\n",
       "      <td>14_1</td>\n",
       "      <td>0</td>\n",
       "      <td>14</td>\n",
       "      <td>1</td>\n",
       "    </tr>\n",
       "    <tr>\n",
       "      <th>4</th>\n",
       "      <td>2016-01-01</td>\n",
       "      <td>9_451</td>\n",
       "      <td>0</td>\n",
       "      <td>9</td>\n",
       "      <td>451</td>\n",
       "    </tr>\n",
       "  </tbody>\n",
       "</table>\n",
       "</div>"
      ],
      "text/plain": [
       "    datetime segment_id  target  road_id  road_km\n",
       "0 2016-01-01    14_1276       0       14     1276\n",
       "1 2016-01-01      9_278       0        9      278\n",
       "2 2016-01-01     14_432       0       14      432\n",
       "3 2016-01-01       14_1       0       14        1\n",
       "4 2016-01-01      9_451       0        9      451"
      ]
     },
     "execution_count": 13,
     "metadata": {},
     "output_type": "execute_result"
    }
   ],
   "source": [
    "train_x.head()"
   ]
  },
  {
   "cell_type": "code",
   "execution_count": 14,
   "id": "beautiful-lightning",
   "metadata": {},
   "outputs": [],
   "source": [
    "train_x = pd.merge(train_x, geo_data_p, on=['road_id', 'road_km'], how='left')"
   ]
  },
  {
   "cell_type": "code",
   "execution_count": 15,
   "id": "stock-vacuum",
   "metadata": {},
   "outputs": [],
   "source": [
    "train_x = pd.merge(train_x, traffic_p, on=['datetime', 'station_id'], how='left')"
   ]
  },
  {
   "cell_type": "code",
   "execution_count": 22,
   "id": "attractive-precipitation",
   "metadata": {},
   "outputs": [],
   "source": [
    "train_x.drop(columns=['lat_glonass', 'lon_glonass'], inplace=True)"
   ]
  },
  {
   "cell_type": "code",
   "execution_count": null,
   "id": "ceramic-darwin",
   "metadata": {},
   "outputs": [],
   "source": [
    "train_x.to_pickle('../data_processed/train_traffic.pickle.gz')"
   ]
  },
  {
   "cell_type": "code",
   "execution_count": null,
   "id": "complete-carroll",
   "metadata": {},
   "outputs": [],
   "source": [
    "train_x = pd.merge(train_x, tele2, on=['datetime', 'road_id', 'road_km'], how='left')"
   ]
  },
  {
   "cell_type": "code",
   "execution_count": null,
   "id": "pediatric-scott",
   "metadata": {},
   "outputs": [],
   "source": []
  },
  {
   "cell_type": "code",
   "execution_count": null,
   "id": "bronze-graduation",
   "metadata": {},
   "outputs": [],
   "source": []
  },
  {
   "cell_type": "code",
   "execution_count": null,
   "id": "colored-reception",
   "metadata": {},
   "outputs": [],
   "source": []
  },
  {
   "cell_type": "code",
   "execution_count": null,
   "id": "seventh-walnut",
   "metadata": {},
   "outputs": [],
   "source": []
  },
  {
   "cell_type": "code",
   "execution_count": null,
   "id": "iraqi-peeing",
   "metadata": {},
   "outputs": [],
   "source": []
  },
  {
   "cell_type": "code",
   "execution_count": 42,
   "id": "demonstrated-roots",
   "metadata": {},
   "outputs": [],
   "source": [
    "# train_x = pd.merge(train_p, traffic_p, how='outer', on=['datetime', 'road_id', 'road_km'])\n",
    "# condition1 = (train_x['target'].isnull()) & (train_x['data_id'].isnull())\n",
    "# condition2 = ~(train_x['target'].isnull()) & (train_x['data_id'].isnull())\n",
    "# train_x = train_x.drop(train_x[condition1 | condition2].index)\n",
    "\n",
    "# train_x['target'].fillna(0, inplace=True)\n",
    "# train_x.sort_values('datetime', inplace=True)\n",
    "# train_x.reset_index(drop=True, inplace=True)\n",
    "\n",
    "# train_x = train_x[(train_x.datetime >= '2016-01-01 00:00:00') & (train_x.datetime <= '2020-01-01 00:00:00')]\n",
    "# train_x = f.add_segment_id(train_x)"
   ]
  },
  {
   "cell_type": "code",
   "execution_count": null,
   "id": "worldwide-subscriber",
   "metadata": {},
   "outputs": [],
   "source": []
  }
 ],
 "metadata": {
  "kernelspec": {
   "display_name": "mchs",
   "language": "python",
   "name": "mchs"
  },
  "language_info": {
   "codemirror_mode": {
    "name": "ipython",
    "version": 3
   },
   "file_extension": ".py",
   "mimetype": "text/x-python",
   "name": "python",
   "nbconvert_exporter": "python",
   "pygments_lexer": "ipython3",
   "version": "3.9.2"
  }
 },
 "nbformat": 4,
 "nbformat_minor": 5
}
